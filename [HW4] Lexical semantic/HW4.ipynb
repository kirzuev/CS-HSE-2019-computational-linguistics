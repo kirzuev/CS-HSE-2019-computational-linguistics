{
 "cells": [
  {
   "cell_type": "code",
   "execution_count": 57,
   "metadata": {
    "collapsed": true,
    "scrolled": true
   },
   "outputs": [],
   "source": [
    "import gensim.downloader as api"
   ]
  },
  {
   "cell_type": "code",
   "execution_count": 77,
   "metadata": {
    "collapsed": true,
    "scrolled": true
   },
   "outputs": [],
   "source": [
    "# загрузка модели Word2Vec из Gensim\n",
    "model = api.load('word2vec-ruscorpora-300')"
   ]
  },
  {
   "cell_type": "code",
   "execution_count": 90,
   "metadata": {
    "collapsed": true
   },
   "outputs": [],
   "source": [
    "# печать наиболее похожих слов (для заданного слова)\n",
    "def print_most_similar(word):\n",
    "    for w, dist in model.most_similar(word):\n",
    "        print('{}: {:.3f}'.format(w, dist))"
   ]
  },
  {
   "cell_type": "code",
   "execution_count": 109,
   "metadata": {},
   "outputs": [
    {
     "name": "stdout",
     "output_type": "stream",
     "text": [
      "Наиболее похожие для \"кот_NOUN\":\n",
      "\n",
      "кошка_NOUN: 0.757\n",
      "котенок_NOUN: 0.668\n",
      "пес_NOUN: 0.563\n",
      "мяукать_VERB: 0.562\n",
      "тобик_NOUN: 0.559\n",
      "фоксик_NOUN: 0.557\n",
      "собака_NOUN: 0.557\n",
      "мяучать_VERB: 0.554\n",
      "харлашка_NOUN: 0.552\n",
      "котяра_NOUN: 0.551\n",
      "\n",
      "\n",
      "Наиболее похожие для \"морковь_NOUN\":\n",
      "\n",
      "свекла_NOUN: 0.786\n",
      "капуста_NOUN: 0.756\n",
      "укроп::петрушка_NOUN: 0.739\n",
      "репчатый::лук_NOUN: 0.736\n",
      "огурец_NOUN: 0.736\n",
      "сельдерей_NOUN: 0.735\n",
      "помидор_NOUN: 0.730\n",
      "овощ_NOUN: 0.723\n",
      "картофель_NOUN: 0.722\n",
      "лук::репчатый_NOUN: 0.722\n",
      "\n",
      "\n",
      "Наиболее похожие для \"ботинок_NOUN\":\n",
      "\n",
      "сапог_NOUN: 0.824\n",
      "туфля_NOUN: 0.794\n",
      "башмак_NOUN: 0.789\n",
      "носок_NOUN: 0.770\n",
      "брюки_NOUN: 0.726\n",
      "кед_NOUN: 0.718\n",
      "полуботинок_NOUN: 0.711\n",
      "кроссовок_NOUN: 0.705\n",
      "валенок_NOUN: 0.695\n",
      "обувь_NOUN: 0.693\n",
      "\n",
      "\n",
      "Наиболее похожие для \"красный_ADJ\":\n",
      "\n",
      "оранжевый_ADJ: 0.660\n",
      "желтый_ADJ: 0.646\n",
      "малиновый_ADJ: 0.637\n",
      "белый_ADJ: 0.629\n",
      "зеленый_ADJ: 0.612\n",
      "синий_ADJ: 0.609\n",
      "красный_NOUN: 0.590\n",
      "алый_ADJ: 0.576\n",
      "фиолетовый_ADJ: 0.576\n",
      "рубиновый_ADJ: 0.556\n",
      "\n",
      "\n",
      "Наиболее похожие для \"большой_ADJ\":\n",
      "\n",
      "огромный_ADJ: 0.763\n",
      "громадный_ADJ: 0.691\n",
      "небольшой_ADJ: 0.638\n",
      "немалый_ADJ: 0.597\n",
      "больший_ADJ: 0.588\n",
      "колоссальный_ADJ: 0.579\n",
      "значительный_ADJ: 0.567\n",
      "маленький_ADJ: 0.532\n",
      "меньший_ADJ: 0.530\n",
      "малый_ADJ: 0.524\n",
      "\n",
      "\n",
      "Наиболее похожие для \"идти_VERB\":\n",
      "\n",
      "пойти_VERB: 0.729\n",
      "брести_VERB: 0.570\n",
      "плестись_VERB: 0.526\n",
      "шагать_VERB: 0.524\n",
      "тащиться_VERB: 0.522\n",
      "бежать_VERB: 0.521\n",
      "двигаться_VERB: 0.521\n",
      "шествовать_VERB: 0.517\n",
      "двинуться_VERB: 0.514\n",
      "ехать_VERB: 0.513\n",
      "\n",
      "\n",
      "Наиболее похожие для \"говорить_VERB\":\n",
      "\n",
      "сказать_VERB: 0.746\n",
      "заговаривать_VERB: 0.629\n",
      "разговаривать_VERB: 0.611\n",
      "думать_VERB: 0.595\n",
      "толковать_VERB: 0.595\n",
      "рассуждать_VERB: 0.590\n",
      "рассказывать_VERB: 0.574\n",
      "отвечать_VERB: 0.569\n",
      "возражать_VERB: 0.567\n",
      "уверять_VERB: 0.566\n",
      "\n",
      "\n",
      "Наиболее похожие для \"мало_NUM\":\n",
      "\n",
      "мало_ADV: 0.722\n",
      "менее_ADV: 0.661\n",
      "немногое_PRON: 0.587\n",
      "среднее_NOUN: 0.583\n",
      "превышать_VERB: 0.562\n",
      "примерно_ADV: 0.545\n",
      "полтора_NUM: 0.527\n",
      "гораздо_ADV: 0.522\n",
      "столько_NUM: 0.518\n",
      "меньший_ADJ: 0.517\n",
      "\n",
      "\n",
      "Наиболее похожие для \"хорошо_ADV\":\n",
      "\n",
      "плохо_ADV: 0.766\n",
      "отлично_ADV: 0.757\n",
      "прекрасно_ADV: 0.753\n",
      "хорошо_PART: 0.743\n",
      "неплохо_ADV: 0.728\n",
      "превосходно_ADV: 0.657\n",
      "недурно_ADV: 0.622\n",
      "худо_ADV: 0.615\n",
      "великолепно_ADV: 0.611\n",
      "недобдеть_VERB: 0.589\n",
      "\n",
      "\n"
     ]
    }
   ],
   "source": [
    "# список рассматриваемых слов\n",
    "words = ['кот_NOUN', 'морковь_NOUN', 'ботинок_NOUN', 'красный_ADJ', 'большой_ADJ',\n",
    "         'идти_VERB','говорить_VERB', 'мало_NUM', 'хорошо_ADV']\n",
    "# вывод наиболее похожих слов для каждого слова из заданного списка\n",
    "for word in words:\n",
    "    print('Наиболее похожие для \"{}\":\\n'.format(word))\n",
    "    print_most_similar(word)\n",
    "    print('\\n')"
   ]
  },
  {
   "cell_type": "code",
   "execution_count": 102,
   "metadata": {},
   "outputs": [
    {
     "name": "stdout",
     "output_type": "stream",
     "text": [
      "Количество рассматриваемых слов: 9\n"
     ]
    }
   ],
   "source": [
    "print('Количество рассматриваемых слов:', len(words))"
   ]
  },
  {
   "cell_type": "code",
   "execution_count": 103,
   "metadata": {
    "collapsed": true
   },
   "outputs": [],
   "source": [
    "# вспомогательные функции: голова и хвост списка, взятие третьего элемента кортежа\n",
    "# создание списка всех пар слов со значением их близости\n",
    "def head(l):\n",
    "    return l[0]\n",
    "\n",
    "def tail(l):\n",
    "    return l[1:]\n",
    "\n",
    "def third(x):\n",
    "    return x[2]\n",
    "\n",
    "def all_pairs(words):\n",
    "    res = []\n",
    "    if words == []:\n",
    "        return res\n",
    "    else:\n",
    "        word = head(words)\n",
    "        others = tail(words)\n",
    "        for other in others:\n",
    "            res.append((word, other, model.similarity(word, other)))\n",
    "        return res + all_pairs(others)"
   ]
  },
  {
   "cell_type": "code",
   "execution_count": 107,
   "metadata": {},
   "outputs": [
    {
     "name": "stdout",
     "output_type": "stream",
     "text": [
      "делать_VERB и говорить_VERB: 0.420\n",
      "говорить_VERB и хорошо_ADV: 0.373\n",
      "мало_NUM и хорошо_ADV: 0.360\n",
      "большой_ADJ и мало_NUM: 0.333\n",
      "кот_NOUN и ботинок_NOUN: 0.326\n",
      "делать_VERB и хорошо_ADV: 0.301\n",
      "красный_ADJ и большой_ADJ: 0.280\n",
      "большой_ADJ и хорошо_ADV: 0.241\n",
      "кот_NOUN и говорить_VERB: 0.239\n",
      "большой_ADJ и говорить_VERB: 0.231\n"
     ]
    }
   ],
   "source": [
    "# список всевозможных пар заданных слов со значением их близости\n",
    "pairs = all_pairs(words)\n",
    "# топ 10 близких пар\n",
    "top_pairs = sorted(pairs, key=third, reverse=True)[:10]\n",
    "for w1, w2, sim in top_pairs:\n",
    "    print('{} и {}: {:.3f}'.format(w1, w2, sim))"
   ]
  },
  {
   "cell_type": "code",
   "execution_count": null,
   "metadata": {
    "collapsed": true
   },
   "outputs": [],
   "source": []
  }
 ],
 "metadata": {
  "kernelspec": {
   "display_name": "Python 3",
   "language": "python",
   "name": "python3"
  },
  "language_info": {
   "codemirror_mode": {
    "name": "ipython",
    "version": 3
   },
   "file_extension": ".py",
   "mimetype": "text/x-python",
   "name": "python",
   "nbconvert_exporter": "python",
   "pygments_lexer": "ipython3",
   "version": "3.6.8"
  }
 },
 "nbformat": 4,
 "nbformat_minor": 2
}

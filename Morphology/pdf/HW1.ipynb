{
 "cells": [
  {
   "cell_type": "code",
   "execution_count": 1,
   "metadata": {
    "collapsed": true
   },
   "outputs": [],
   "source": [
    "import pymorphy2\n",
    "import pymorphy2_dicts_ru\n",
    "import xml.etree.ElementTree as etree"
   ]
  },
  {
   "cell_type": "code",
   "execution_count": 2,
   "metadata": {
    "collapsed": true
   },
   "outputs": [],
   "source": [
    "# морфологический анализатор\n",
    "morph = pymorphy2.MorphAnalyzer()"
   ]
  },
  {
   "cell_type": "code",
   "execution_count": 3,
   "metadata": {
    "collapsed": true
   },
   "outputs": [],
   "source": [
    "# размеченный корпус OpenCorpora со снятой омонимией\n",
    "file = etree.parse('annot.opcorpora.no_ambig_strict.xml').getroot()"
   ]
  },
  {
   "cell_type": "code",
   "execution_count": 4,
   "metadata": {},
   "outputs": [
    {
     "name": "stdout",
     "output_type": "stream",
     "text": [
      "Точность разрешения омонимии по лемме: 0.9229637960119382\n",
      "Точность разрешения омонимии по части речи: 0.9584757126173278\n",
      "Точность разрешения омонимии по всем морфологическим характеристикам: 0.7088541891950344\n"
     ]
    }
   ],
   "source": [
    "# точность снятия омонимии по лемме\n",
    "lemma_score = 0\n",
    "\n",
    "# точность снятия омонимии по части речи\n",
    "pos_score   = 0\n",
    "\n",
    "# точность снятия омонимии по всем морфологическим характеристикам\n",
    "all_score   = 0\n",
    "\n",
    "#количество слов (токенов) с возможной омонимией в корпусе\n",
    "words_amount = 0\n",
    "\n",
    "# парсинг размеченного корпуса OpenCorpora\n",
    "for text in file:\n",
    "    paragraphs = text[1]\n",
    "    for paragraph in paragraphs:\n",
    "        for sentence in paragraph:\n",
    "            tokens = sentence[1]\n",
    "            for token in tokens:\n",
    "                # текущее слово для обработки\n",
    "                word = token.attrib['text']\n",
    "                \n",
    "                # результат обработки слова морфологическим анализатором\n",
    "                parse_result = morph.parse(word)\n",
    "                \n",
    "                # если разбор слова анализатором однозначен, то его не обрабатываем\n",
    "                # так как в этом случае нет омонимии\n",
    "                if (len(parse_result) < 2):\n",
    "                    continue\n",
    "                \n",
    "                # увеличение общего числа слов с возможной омонимией\n",
    "                words_amount += 1\n",
    "                \n",
    "                # лемма текущего слова из корпуса\n",
    "                lemma = token[0][0][0].attrib['t']\n",
    "                \n",
    "                # множетсво характеристик текущего слова из корпуса\n",
    "                grammemes = set()\n",
    "                gs = token[0][0][0]\n",
    "                for g in gs:\n",
    "                    grammemes.add(g.attrib['v'])\n",
    "                \n",
    "                # разрешение омонимии (бесконтекстное):\n",
    "                # выбор наиболее вероятного набора морфологических характеристик\n",
    "                params  = parse_result[0]\n",
    "                \n",
    "                # совпадают ли все морфологические характеристики, выданные анализатором с эталонными из корпуса\n",
    "                all_eq = True\n",
    "                        \n",
    "                # если омонимии по лемме не обнаружено, то увеличиваем соответствующий счетчик\n",
    "                if params.normal_form == lemma:\n",
    "                    lemma_score += 1\n",
    "                # иначе не совпадает лемма, выданная анализатором с леммой из корпуса\n",
    "                else:\n",
    "                    all_eq = False\n",
    "                \n",
    "                # если омонимии по части речи не обнаружено, то увеличиваем соответствующий счетчик\n",
    "                if params.tag.POS in grammemes:\n",
    "                    pos_score += 1\n",
    "                # иначе не совпадает часть речи, выданная анализатором с частью речи из корпуса\n",
    "                else:\n",
    "                    all_eq = False\n",
    "\n",
    "                # поиск характеристик, выданных анализатором и не совпадающих с эталонными\n",
    "                for g in grammemes:\n",
    "                    if g not in params.tag.grammemes:\n",
    "                        all_eq = False\n",
    "\n",
    "                # если омонимии по всем характеристикам не обнаружено, то увеличиваем соответствующий счетчик\n",
    "                if all_eq:\n",
    "                    all_score += 1\n",
    "\n",
    "# нормировка по числу слов (токенов)\n",
    "lemma_score /= words_amount\n",
    "pos_score   /= words_amount\n",
    "all_score   /= words_amount\n",
    "\n",
    "# печать результатов\n",
    "print('Точность разрешения омонимии по лемме:', lemma_score)\n",
    "print('Точность разрешения омонимии по части речи:', pos_score)\n",
    "print('Точность разрешения омонимии по всем морфологическим характеристикам:', all_score)"
   ]
  }
 ],
 "metadata": {
  "kernelspec": {
   "display_name": "Python 3",
   "language": "python",
   "name": "python3"
  },
  "language_info": {
   "codemirror_mode": {
    "name": "ipython",
    "version": 3
   },
   "file_extension": ".py",
   "mimetype": "text/x-python",
   "name": "python",
   "nbconvert_exporter": "python",
   "pygments_lexer": "ipython3",
   "version": "3.6.8"
  }
 },
 "nbformat": 4,
 "nbformat_minor": 2
}

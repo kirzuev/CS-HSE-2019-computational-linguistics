{
 "cells": [
  {
   "cell_type": "code",
   "execution_count": 1,
   "metadata": {
    "collapsed": true
   },
   "outputs": [],
   "source": [
    "%matplotlib inline\n",
    "import matplotlib.pyplot as plt\n",
    "from pymystem3 import Mystem\n",
    "import xml.etree.ElementTree as etree"
   ]
  },
  {
   "cell_type": "code",
   "execution_count": 2,
   "metadata": {
    "collapsed": true
   },
   "outputs": [],
   "source": [
    "# морфологический анализатор\n",
    "morph = Mystem()"
   ]
  },
  {
   "cell_type": "code",
   "execution_count": 3,
   "metadata": {},
   "outputs": [],
   "source": [
    "# словарь словоформ OpenCorpora\n",
    "file = etree.parse('dict.opcorpora.xml').getroot()"
   ]
  },
  {
   "cell_type": "code",
   "execution_count": 4,
   "metadata": {},
   "outputs": [],
   "source": [
    "# список всех лемм, включая словоформы и их характеристики\n",
    "lemmata = file[2]\n",
    "\n",
    "# инициализация словаря лемм с частью речи без дополнительной информации\n",
    "dictionary = set()\n",
    "\n",
    "# извлечение лемм из словаря OpenCorpora во внутренний словарь\n",
    "for lemma in lemmata:\n",
    "    dictionary.add((lemma[0].attrib['t'], lemma[0][0].attrib['v']))\n",
    "\n",
    "# конвертация множества в словарь\n",
    "dictionary = dict(dictionary)"
   ]
  },
  {
   "cell_type": "code",
   "execution_count": 13,
   "metadata": {},
   "outputs": [],
   "source": [
    "# считывание текстов\n",
    "text1 = open('texts/prestuplenie-i-nakazanie.txt', 'r').read()\n",
    "text2 = open('texts/anna-karenina.txt', 'r').read()\n",
    "text3 = open('texts/mumu.txt', 'r').read()\n",
    "text4 = open('texts/gore-ot-uma.txt', 'r').read()\n",
    "text5 = open('texts/myortvye-dushi.txt', 'r').read()\n",
    "text6 = open('texts/otcy-i-deti.txt', 'r').read()\n",
    "text7 = open('texts/bratya-karamazovy.txt', 'r').read()\n",
    "text8 = open('texts/vishnevyi-sad.txt', 'r').read()\n",
    "\n",
    "# объединение текстов в одну коллекцию\n",
    "text = ' '.join([text1, text2, text3, text4, text5, text6, text7, text8])\n",
    "\n",
    "# извлечение лемм из коллекции\n",
    "lemmas = morph.analyze(text)\n",
    "\n",
    "# удаление из списка лемм \"мусора\", не имеющего характеристик:\n",
    "# переносов строк, знаков препинания, иностранных слов и др.\n",
    "lemmas = list(filter(lambda l: l.get('analysis') != None and len(l.get('analysis')) > 0, lemmas))\n",
    "\n",
    "# оставить только лемму без дополнительных характеристик\n",
    "lemmas = list(map(lambda l: l['analysis'][0]['lex'], lemmas))"
   ]
  },
  {
   "cell_type": "code",
   "execution_count": 25,
   "metadata": {},
   "outputs": [],
   "source": [
    "# инициализация словаря лемм, которые встречаются в коллекции, с их частотами\n",
    "freq_dict = dict(list(map(lambda x: (x[0], 0), dictionary.items())))"
   ]
  },
  {
   "cell_type": "code",
   "execution_count": 50,
   "metadata": {},
   "outputs": [
    {
     "name": "stdout",
     "output_type": "stream",
     "text": [
      "Общее число лемм в коллекции текстов: 929404\n",
      "Число уникальных лемм в коллекции текстов: 21870\n"
     ]
    }
   ],
   "source": [
    "# вычисление частот лемм, которые встречаются в коллекции\n",
    "for lemma in lemmas:\n",
    "    if lemma in freq_dict.keys():\n",
    "        freq_dict[lemma] += 1\n",
    "\n",
    "print('Общее число лемм в коллекции текстов:', len(lemmas))\n",
    "print('Число уникальных лемм в коллекции текстов:', len(list(filter(lambda x: x[1] > 0, freq_dict.items()))))"
   ]
  },
  {
   "cell_type": "code",
   "execution_count": 27,
   "metadata": {},
   "outputs": [
    {
     "name": "stdout",
     "output_type": "stream",
     "text": [
      "Общее количество лемм в словаре OpenCorpora: 378282\n",
      "Количество лемм словаря, отсутствующих в коллекции текстов: 356412\n",
      "Процент отсутствующих лемм словаря в коллекции текстов: 94.22%\n"
     ]
    }
   ],
   "source": [
    "# число словарных лемм, отсутствующих в коллекции текстов\n",
    "amount = len(list(filter(lambda x: x == 0, freq_dict.values())))\n",
    "\n",
    "print('Общее количество лемм в словаре OpenCorpora:', len(dictionary))\n",
    "print('Количество лемм словаря, отсутствующих в коллекции текстов:', amount)\n",
    "print('Процент отсутствующих лемм словаря в коллекции текстов: %.2f' % (amount * 100 / len(dictionary)), '%', sep = '')"
   ]
  },
  {
   "cell_type": "code",
   "execution_count": 28,
   "metadata": {},
   "outputs": [
    {
     "data": {
      "image/png": "[encoded data removed]",
      "text/plain": [
       "<Figure size 1440x720 with 1 Axes>"
      ]
     },
     "metadata": {},
     "output_type": "display_data"
    }
   ],
   "source": [
    "# множество всех частей речи словаря лемм\n",
    "pos_set = set(dictionary.values())\n",
    "\n",
    "# инициализация частотного словаря частей речи\n",
    "pos_freq = dict(list(map(lambda x: (x, 0), pos_set)))\n",
    "\n",
    "# вычисление частот частей речи лемм, которые не встречаются в коллекции\n",
    "for word, freq in freq_dict.items():\n",
    "    if freq == 0:\n",
    "        pos_freq[dictionary[word]] += 1\n",
    "\n",
    "plt.figure(figsize = (20, 10))\n",
    "plt.xlabel(\"Часть речи\")\n",
    "plt.ylabel(\"Частота\")\n",
    "_ = plt.bar(pos_freq.keys(), pos_freq.values())"
   ]
  },
  {
   "cell_type": "code",
   "execution_count": 34,
   "metadata": {
    "scrolled": true
   },
   "outputs": [
    {
     "name": "stdout",
     "output_type": "stream",
     "text": [
      "Наиболее частотная часть речи, отсутствующая в коллекции: NOUN\n",
      "\n",
      "Часть речи: VERB\n",
      "Примеры отсутствующих лемм: перекувырнул, задариваю, надмачиваю, локализовал, прогневил, откроил, отформовываюсь, подвинтил, предложил, намереваюсь\n",
      "\n",
      "Часть речи: ADJS\n",
      "Примеры отсутствующих лемм: нефтесобирающе, вольнопрактикующ, всеподданнейше, хлопчатобумажен, неприсягающе, грудаст, рыборазводяще, сухарен, старопечатен, хулителен\n",
      "\n",
      "Часть речи: ADJF\n",
      "Примеры отсутствующих лемм: акмеистский, светлоглазый, паучий, энергоаппаратный, внутрирайонный, некапризный, гвоздзиовский, препроводительный, многоколоночный, трудноватый\n",
      "\n",
      "Часть речи: NUMR\n",
      "Примеры отсутствующих лемм: многовато, восьмеро, девятеро, осемьдесят, сколечко, полста, шестьсот, нисколечко, эстолько, семеро\n",
      "\n",
      "Часть речи: GRND\n",
      "Примеры отсутствующих лемм: свиристя, призираясь, слопав, двинувшись, восхотев, засигналив, истачивая, зарясь, прижёгши, выведывая\n",
      "\n",
      "Часть речи: INFN\n",
      "Примеры отсутствующих лемм: починяться, прикусываться, королевствовать, кровохаркать, запятить, обчёсывать, контрапунктовать, вметать, опутываться, пришить\n",
      "\n",
      "Часть речи: PREP\n",
      "Примеры отсутствующих лемм: вкруг, насчёт, плюс, выключая, обок, середь, касаемо, невзирая, навроде, промежду\n",
      "\n",
      "Часть речи: PRCL\n",
      "Примеры отсутствующих лемм: фиг, ла, ужель, всё-таки, ещё, дель, всё, эль, максимум, эва\n",
      "\n",
      "Часть речи: PRTF\n",
      "Примеры отсутствующих лемм: перекопируемый, истачивавшийся, кончившийся, шелюгующий, смешавший, вкраивающийся, произрастивший, палящийся, обтираемый, промачивавшийся\n",
      "\n",
      "Часть речи: ADVB\n",
      "Примеры отсутствующих лемм: гуситски, зимой, трудновато, суннитски, алеутски, напряжённо, плотоядно, дотуда, надсадно, злостно\n",
      "\n",
      "Часть речи: PRED\n",
      "Примеры отсутствующих лемм: амба, темным-темно, полгоря, неповадно, морозно, лафа, невместно, нехуй, квит, невдомёк\n",
      "\n",
      "Часть речи: CONJ\n",
      "Примеры отсутствующих лемм: понимаете, в-восьмых, точнее, дак, случается, имхо, наконец-то, соответственно, всеконечно, в-пятых\n",
      "\n",
      "Часть речи: COMP\n",
      "Примеры отсутствующих лемм: разноголосее, гильотиннее, квадратнее, краснорыбнее, булочнее, акациевее, дубильнее, ассортиментнее, родановее, салоннее\n",
      "\n",
      "Часть речи: NPRO\n",
      "Примеры отсутствующих лемм: любая\n",
      "\n",
      "Часть речи: NOUN\n",
      "Примеры отсутствующих лемм: суперген, деминские, гуэмал, ульяновскагроснаб, дурново, островина, анабасис, модуль, каздорстрой, пеетеровна\n",
      "\n",
      "Часть речи: INTJ\n",
      "Примеры отсутствующих лемм: хе, м-м, чик-чирик, оп, слушайте, гы, кувырк, угу, атас, ттт\n",
      "\n",
      "Часть речи: PRTS\n",
      "Примеры отсутствующих лемм: расчёсываем, доплюнут, подцвечиваем, освидетельствован, взмачиваем, убыточим, отвезён, перерегистрирован, пересекаем, выхолощен\n"
     ]
    }
   ],
   "source": [
    "# вывод наиболее частотной части речи, отсутствующей в коллекции\n",
    "print('Наиболее частотная часть речи, отсутствующая в коллекции:', max(pos_freq.items(), key = lambda x: x[1])[0])\n",
    "\n",
    "# вывод примеров лемм, отсутствующих в коллекции для каждой части речи\n",
    "for pos, freq in pos_freq.items():\n",
    "    print('\\nЧасть речи:', pos)\n",
    "    print('Примеры отсутствующих лемм:', end = ' ')\n",
    "    print(', '.join(list(map(lambda x: x[0],\n",
    "        filter(lambda x: x[1] == pos and freq_dict[x[0]] == 0, dictionary.items())))[:10]))"
   ]
  },
  {
   "cell_type": "code",
   "execution_count": 51,
   "metadata": {},
   "outputs": [
    {
     "name": "stdout",
     "output_type": "stream",
     "text": [
      "Примеры отсутствующих лемм длины 1: ц, ы\n",
      "Примеры отсутствующих лемм длины 2: ям, хе, оп, ла, тб, кб, гы, рк, кв, ир\n",
      "Примеры отсутствующих лемм длины 3: 6-й, цдл, акр, аба, чиф, 2-й, уза, крк, фиг, эре\n",
      "Примеры отсутствующих лемм длины 4: опор, внии, вжав, фото, яния, адиб, флэш, хота, фуко, меря\n",
      "Примеры отсутствующих лемм длины 5: гарий, ежова, диэдр, солощ, измит, зимой, илона, зайка, выжал, антуш\n",
      "Примеры отсутствующих лемм длины 6: гуэмал, модуль, слопав, митины, паучий, даглар, заноза, зарясь, шамада, фаника\n",
      "Примеры отсутствующих лемм длины 7: дурново, аджиева, грудаст, бычкова, высотка, сухарен, морюшко, откроил, отвезён, ровенка\n",
      "Примеры отсутствующих лемм длины 8: суперген, свиристя, анабасис, доплюнут, восхотев, запятить, булочнее, гуситски, прижёгши, убыточим\n",
      "Примеры отсутствующих лемм длины 9: деминские, островина, задариваю, жеребцовы, смешавший, истачивая, палящийся, прогневил, малгожата, акпорисов\n",
      "Примеры отсутствующих лемм длины 10: пеетеровна, призираясь, починяться, двинувшись, головунины, надмачиваю, шелюгующий, обчёсывать, квадратнее, засигналив\n",
      "Примеры отсутствующих лемм длины 11: расчёсываем, каздорстрой, акмеистский, кончившийся, гильотиннее, некапризный, локализовал, петерисовна, трудноватый, нисходивший\n",
      "Примеры отсутствующих лемм длины 12: перекувырнул, светлоглазый, разноголосее, кровохаркать, краснорыбнее, герпетология, неприсягающе, рисовавшийся, подцвечиваем, включающийся\n",
      "Примеры отсутствующих лемм длины 13: прикусываться, гвоздзиовский, вкраивающийся, нахалтуривший, рыборазводяще, багрянородный, гюльдарановна, пристальность, прелиминарный, зачаровываясь\n",
      "Примеры отсутствующих лемм длины 14: нефтесобирающе, перекопируемый, истачивавшийся, внутрирайонный, хлебокопнитель, всеподданнейше, произрастивший, декламирование, отформовываюсь, выгрязнившийся\n",
      "Примеры отсутствующих лемм длины 15: королевствовать, хлопчатобумажен, многоколоночный, промачивавшийся, неперечисленный, выстуживавшийся, раскосматившись, общёлкивавшийся, переупаковывать, омолаживающийся\n",
      "Примеры отсутствующих лемм длины 16: вольнопрактикующ, энергоаппаратный, камнерезательный, контрапунктовать, иловляремтехпред, москоммунбытпром, невразумительный, перецеживавшийся, намариновываться, присоединяющийся\n",
      "Примеры отсутствующих лемм длины 17: ульяновскагроснаб, препроводительный, узкодогматический, освидетельствован, перерегистрирован, препровождающийся, проскандировавший, транспонировавший, волгоградводстрой, разворовывавшийся\n",
      "Примеры отсутствующих лемм длины 18: мультикомпьютерный, тепловодоснабжение, приморкоммунэнерго, мотор-генераторный, рекристаллизировал, расшифровывающийся, революционизировав, звуконепроницаемый, секуляризироваться, межконтинентальный\n",
      "Примеры отсутствующих лемм длины 19: меднорафинировочный, неконституционность, паралингвистический, милливольтамперметр, слабодифтонгический, калининградагропром, островоспалительный, здравоохранительный, телерадиопередающий, солидолонагнетатель\n",
      "Примеры отсутствующих лемм длины 20: труднозапечатываемый, гальванопластический, владимирагропищепром, ярославрезинотехника, перерегистрироваться, паводкоаккумулирующе, новосибгражданпроект, гематоэнцефалический, владимирсельхозхимия, импрессионистический\n",
      "Примеры отсутствующих лемм длины 21: авиаметеорологический, переквалифицировавший, антикапиталистический, научно-познавательный, акустокибернетический, неэквипотенциальность, стереотопографический, научно-консультативен, малоквалифицированнее, институционализировал\n",
      "Примеры отсутствующих лемм длины 22: инженерно-строительный, возвратно-поступателен, ивановооблгражданстрой, зернокукурузоуборочный, велижагропромтехмонтаж, приморскагропромремонт, проинвентаризировавший, псевдоинтеллектуальный, учетно-калькуляционный, совместительствовавший\n",
      "Примеры отсутствующих лемм длины 23: нечерноземсельхозпроект, хабаровсклеспроектстрой, золотополиметаллический, радиотермолюминесценция, вентиляционно-приточный, никифоровкаагропромснаб, конституционно-правовой, белгородоблгражданстрой, представительствовавший, уголовно-процессуальный\n",
      "Примеры отсутствующих лемм длины 24: белосельская-белозерская, электронно-колебательный, архитектурно-декоративен, волчихинскагропромэнерго, юговостокатомэнергострой, противоправительственный, интернационализироваться, функционально-физический, интернационализировавший, экологотоксикологический\n",
      "Примеры отсутствующих лемм длины 25: алтайгражданреконструкция, краснодартрубопроводстрой, кировсельэлектросетьстрой, кубаньстройгазпереработка, северо-осетиннефтепродукт, материально-ответственнее, росколхозстройобъединение, балластораспределительный, электронно-вычислительный, стоимостно-функциональный\n",
      "Примеры отсутствующих лемм длины 26: амуроблавтотехобслуживание, новосибирсккиновидеосервис, кузбассшахтостройиндустрия, востокнефтегазсантехмонтаж, нумеровально-впечатывающий, мосгорэлектроприбороптторг, зауралсельэлектросетьстрой, рентгеноспектроскопический, медно-марганцево-никелевый, предметно-производственный\n",
      "Примеры отсутствующих лемм длины 27: производственно-технический, операционно-технологический, александровгайагропромхимия, архитектурно-конструктивный, христианско-демократический, александровогайагропромснаб, липецкавтотрансобслуживание, калининградагропромлегтранс, саратовгражданреконструкция, саратовоблтрансобслуживание\n",
      "Примеры отсутствующих лемм длины 28: физкультурно-оздоровительный, последовательно-параллельный, нижневартовскэнергосетьстрой, липецкоблтелерадиобыттехника, непосредственно-составляющий, кандалакшаремтехагропромснаб, самаранефтепродуктавтоматика, исправительно-воспитательный, материально-производственный, инвестиционно-учредительский\n",
      "Примеры отсутствующих лемм длины 29: генерационно-рекомбинационный, старопохвистневоагропромтранс, литературно-библиографический, магаданоблавтотехобслуживание, дополнительно-программируемый, лесопильнодеревообрабатывающе, красноленинскнефтегазгеология, верхнетоемскремтехпредхимснаб, виноградовскремтехпредхимснаб, воронежнефтепродуктавтоматика\n",
      "Примеры отсутствующих лемм длины 30: новгородоблавтотехобслуживание, ершовагропроммехмонтажкомплект, профессорско-преподавательский, подготовительно-заключительный, окислительно-восстановительный, смоленскоблтелерадиобыттехника, экзаменационно-квалификационен, психолого-импрессионистический, конструкторско-технологический, административно-управленческий\n",
      "Примеры отсутствующих лемм длины 31: архангельскагропромпусконаладка, волгограднефтепродуктавтоматика, правительственно-индустриальный, белгородоблгражданреконструкция, экзаменационно-квалификационный, земледельческо-животноводческий, административно-территориальный, компенсаторно-приспособительный, магнитотермокондуктометрический, спецнефтеэнергомонтажавтоматика\n",
      "Примеры отсутствующих лемм длины 32: выправочно-подбивочно-отделочный, консультативно-исследовательский, средневолжсксельэлектросетьстрой, диодно-резисторно-конденсаторный, пропорционально-дифференциальный, аркадакагропроммехмонтажкомплект, верхневолжсксельэлектросетьстрой, конструкционно-теплоизоляционный, государственно-монополистический\n",
      "Примеры отсутствующих лемм длины 33: эксплуататорско-монополистический, круглильно-кашировально-оклеечный\n",
      "Примеры отсутствующих лемм длины 34: экспериментально-исследовательский\n",
      "Примеры отсутствующих лемм длины 35: \n",
      "Примеры отсутствующих лемм длины 36: нечерноземагроспецпром-монтажналадка\n",
      "Примеры отсутствующих лемм длины 37: \n",
      "Примеры отсутствующих лемм длины 38: \n",
      "Примеры отсутствующих лемм длины 39: \n",
      "Примеры отсутствующих лемм длины 40: \n"
     ]
    }
   ],
   "source": [
    "# вывод примеров лемм различной длины, отсутствующих в коллекции\n",
    "for i in range(40):\n",
    "    print('Примеры отсутствующих лемм длины ' + str(i + 1) + ':', end = ' ')\n",
    "    print(', '.join(list(map(lambda x: x[0],\n",
    "        filter(lambda x: x[1] == 0 and len(x[0]) == i + 1, freq_dict.items())))[:10]))"
   ]
  },
  {
   "cell_type": "code",
   "execution_count": 19,
   "metadata": {},
   "outputs": [
    {
     "name": "stdout",
     "output_type": "stream",
     "text": [
      "Слово \"и\" встречается 43031 раз\n",
      "Слово \"он\" встречается 26219 раз\n",
      "Слово \"не\" встречается 21470 раз\n",
      "Слово \"в\" встречается 21169 раз\n",
      "Слово \"что\" встречается 18532 раз\n",
      "Слово \"я\" встречается 17639 раз\n",
      "Слово \"быть\" встречается 14918 раз\n",
      "Слово \"на\" встречается 12541 раз\n",
      "Слово \"с\" встречается 12165 раз\n",
      "Слово \"она\" встречается 11765 раз\n",
      "Слово \"как\" встречается 9032 раз\n",
      "Слово \"то\" встречается 8733 раз\n",
      "Слово \"а\" встречается 8016 раз\n",
      "Слово \"это\" встречается 7930 раз\n",
      "Слово \"вы\" встречается 7226 раз\n",
      "Слово \"но\" встречается 7153 раз\n",
      "Слово \"ты\" встречается 6111 раз\n",
      "Слово \"к\" встречается 5858 раз\n",
      "Слово \"этот\" встречается 5711 раз\n",
      "Слово \"же\" встречается 5514 раз\n",
      "Слово \"так\" встречается 5385 раз\n",
      "Слово \"весь\" встречается 5374 раз\n",
      "Слово \"сказать\" встречается 5116 раз\n",
      "Слово \"свой\" встречается 4827 раз\n",
      "Слово \"они\" встречается 4486 раз\n",
      "Слово \"бы\" встречается 4239 раз\n",
      "Слово \"который\" встречается 4151 раз\n",
      "Слово \"мочь\" встречается 4145 раз\n",
      "Слово \"да\" встречается 4113 раз\n",
      "Слово \"у\" встречается 4080 раз\n",
      "Слово \"за\" встречается 3904 раз\n",
      "Слово \"себя\" встречается 3669 раз\n",
      "Слово \"его\" встречается 3657 раз\n",
      "Слово \"только\" встречается 3525 раз\n",
      "Слово \"говорить\" встречается 3516 раз\n",
      "Слово \"один\" встречается 3426 раз\n",
      "Слово \"знать\" встречается 3421 раз\n",
      "Слово \"по\" встречается 3373 раз\n",
      "Слово \"тот\" встречается 3291 раз\n",
      "Слово \"о\" встречается 3188 раз\n",
      "Слово \"от\" встречается 2905 раз\n",
      "Слово \"человек\" встречается 2850 раз\n",
      "Слово \"из\" встречается 2797 раз\n",
      "Слово \"сам\" встречается 2746 раз\n",
      "Слово \"вот\" встречается 2720 раз\n",
      "Слово \"теперь\" встречается 2693 раз\n",
      "Слово \"уже\" встречается 2654 раз\n",
      "Слово \"такой\" встречается 2580 раз\n",
      "Слово \"мы\" встречается 2411 раз\n",
      "Слово \"даже\" встречается 2366 раз\n"
     ]
    }
   ],
   "source": [
    "# сортировка частотного списка лемм\n",
    "freq_dict = list(sorted(freq_dict.items(), key = lambda x: x[1], reverse = True))\n",
    "\n",
    "# вывод 50 самых встречаемых лемм в коллекции\n",
    "for i in range(50):\n",
    "    print('Слово \"', freq_dict[i][0], '\" встречается ', freq_dict[i][1], ' раз', sep = '')"
   ]
  },
  {
   "cell_type": "code",
   "execution_count": null,
   "metadata": {
    "collapsed": true
   },
   "outputs": [],
   "source": []
  }
 ],
 "metadata": {
  "kernelspec": {
   "display_name": "Python 3",
   "language": "python",
   "name": "python3"
  },
  "language_info": {
   "codemirror_mode": {
    "name": "ipython",
    "version": 3
   },
   "file_extension": ".py",
   "mimetype": "text/x-python",
   "name": "python",
   "nbconvert_exporter": "python",
   "pygments_lexer": "ipython3",
   "version": "3.6.8"
  }
 },
 "nbformat": 4,
 "nbformat_minor": 2
}
